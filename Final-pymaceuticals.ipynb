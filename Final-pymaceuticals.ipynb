{
 "cells": [
  {
   "cell_type": "markdown",
   "metadata": {},
   "source": [
    "# Pymaceuticals Inc.\n",
    "---\n",
    "\n",
    "### Analysis\n",
    "\n",
    "Typically, scientific data needs to be analyzed relative to controls in order to deduce the meaning behind the data.  Thus, an additional analysis of the Placebo was included.  A placebo, by definition, would be classified as a negative control, thus, allowing for comparison of the drug efficacy versus if nothing was done at all.\n",
    "\n",
    "Comparison of the four drugs, Capomulin, Ceftamin, Infubinol, and Ramicane, the more efficacious drugs at decreasing overall tumor volume were Capomulin and Ramicane.  In fact, in comparison with Placebo, Infubinol and Ramicane did not have a significant impact on decreasing overall tumor volume.  Further studies into the targets of each of these drugs, and specifically Capomulin and Ramicane would be most helpful at honing in on the best drug regimens to administer as well as optimal drug targets to conduct studies on in future investigations.\n",
    "\n",
    "The overall study took into account bias against gender, and analysis of the mice used in this study showed no preference was given to either gender.  A total of 249 mice were orignally used to conduct this study, with male and female mice at 125 and 124, respectively.  \n",
    "\n",
    "There was a positive correlation between average tumor volume and the weight of the mouse under the Capomulin regimen. However, whether this is significant is difficult to discern unless we have a control for comparison.  Again, additional analysis of the placebo regimen will act as a negative control.  Scatter plot and regression analyis of mice under the placebo regimen show a lower correlation score compared to Capomulin (-0.2 vs 0.83) and a more varied scatter plot for placebo.  Thus, mice under the Capomulin regimen exhibit a significant average tumor volume increase as the weight of the mouse increases.  \n",
    "\n",
    "\n",
    "\n",
    " "
   ]
  },
  {
   "cell_type": "code",
   "execution_count": null,
   "metadata": {},
   "outputs": [],
   "source": [
    "# Dependencies and Setup\n",
    "import matplotlib.pyplot as plt\n",
    "import pandas as pd\n",
    "import scipy.stats as st\n",
    "# added more depndencies\n",
    "import numpy as np\n",
    "from scipy.stats import sem\n",
    "from scipy.stats import linregress\n",
    "\n",
    "\n",
    "# Study data files\n",
    "mouse_metadata_path = \"data/Mouse_metadata.csv\"\n",
    "study_results_path = \"data/Study_results.csv\"\n",
    "\n",
    "# Read the mouse data and the study results\n",
    "mouse_metadata = pd.read_csv(mouse_metadata_path)\n",
    "study_results = pd.read_csv(study_results_path)\n",
    "\n",
    "# Combine the data into a single dataset\n",
    "mouse_study_df = pd.merge(mouse_metadata, study_results, how=\"left\", on=[\"Mouse ID\", \"Mouse ID\"])\n",
    "\n",
    "# Display the data table for preview\n",
    "mouse_study_df.head()"
   ]
  },
  {
   "cell_type": "code",
   "execution_count": null,
   "metadata": {},
   "outputs": [],
   "source": [
    "# Checking the number of mice.\n",
    "number_of_mice = len(mouse_study_df[\"Mouse ID\"].unique())\n",
    "number_of_mice"
   ]
  },
  {
   "cell_type": "code",
   "execution_count": null,
   "metadata": {},
   "outputs": [],
   "source": [
    "# Getting the duplicate mice by ID number that shows up for Mouse ID and Timepoint. \n",
    "duplicate = mouse_study_df[mouse_study_df.duplicated(subset=['Mouse ID','Timepoint'], keep=False)]\n",
    "duplicate\n"
   ]
  },
  {
   "cell_type": "code",
   "execution_count": null,
   "metadata": {},
   "outputs": [],
   "source": [
    "# Optional: Get all the data for the duplicate mouse ID. \n",
    "all_duplicate_data = mouse_study_df[mouse_study_df['Mouse ID'] == ('g989')]\n",
    "all_duplicate_data\n"
   ]
  },
  {
   "cell_type": "code",
   "execution_count": null,
   "metadata": {},
   "outputs": [],
   "source": [
    "# Create a clean DataFrame by dropping the duplicate mouse by its ID.\n",
    "indexMouseID = mouse_study_df[mouse_study_df['Mouse ID'] == 'g989'].index\n",
    "mouse_study_df.drop(indexMouseID , inplace=True)\n",
    "mouse_study_df.head()\n"
   ]
  },
  {
   "cell_type": "code",
   "execution_count": null,
   "metadata": {},
   "outputs": [],
   "source": [
    "# Checking the number of mice in the clean DataFrame.\n",
    "number_of_cleaned_mice = len(mouse_study_df[\"Mouse ID\"].unique())\n",
    "number_of_cleaned_mice\n"
   ]
  },
  {
   "cell_type": "markdown",
   "metadata": {},
   "source": [
    "## Summary Statistics"
   ]
  },
  {
   "cell_type": "code",
   "execution_count": null,
   "metadata": {},
   "outputs": [],
   "source": [
    "# Generate a summary statistics table of mean, median, variance, standard deviation, and SEM of the tumor volume for each regimen\n",
    "\n",
    "# Use groupby and summary statistical methods to calculate the following properties of each drug regimen: \n",
    "# mean, median, variance, standard deviation, and SEM of the tumor volume. \n",
    "\n",
    "tumor_volume_mean = mouse_study_df.groupby([\"Drug Regimen\"]).mean()[\"Tumor Volume (mm3)\"]\n",
    "tumor_volume_median = mouse_study_df.groupby([\"Drug Regimen\"]).median()[\"Tumor Volume (mm3)\"]\n",
    "tumor_volume_variance = mouse_study_df.groupby([\"Drug Regimen\"]).var()[\"Tumor Volume (mm3)\"]\n",
    "tumor_volume_stdev = mouse_study_df.groupby([\"Drug Regimen\"]).std()[\"Tumor Volume (mm3)\"]\n",
    "tumor_volume_sem = mouse_study_df.groupby([\"Drug Regimen\"]).sem()[\"Tumor Volume (mm3)\"]\n",
    "\n",
    "# Assemble the resulting series into a single summary DataFrame.\n",
    "tumor_volume_stats_table = pd.DataFrame()\n",
    "tumor_volume_stats_table['Average Tumor Volume (mm3)'] = tumor_volume_mean\n",
    "tumor_volume_stats_table['Median Tumor Volume (mm3)'] = tumor_volume_median\n",
    "tumor_volume_stats_table['Variance of Tumor Volume (mm3)'] = tumor_volume_variance\n",
    "tumor_volume_stats_table['Standard Deviation of Tumor Volume (mm3)'] = tumor_volume_stdev\n",
    "tumor_volume_stats_table['SEM of Tumor Volume (mm3)'] = tumor_volume_sem\n",
    "tumor_volume_stats_table\n",
    "\n",
    "\n",
    "\n"
   ]
  },
  {
   "cell_type": "code",
   "execution_count": null,
   "metadata": {},
   "outputs": [],
   "source": [
    "# Generate a summary statistics table of mean, median, variance, standard deviation, \n",
    "# and SEM of the tumor volume for each regimen\n",
    "\n",
    "# Using the aggregation method, produce the same summary statistics in a single line.\n",
    "\n",
    "# Create a new dataframe for aggregation\n",
    "agg_mouse_study_df = mouse_study_df[[\"Drug Regimen\", \"Tumor Volume (mm3)\"]]\n",
    "\n",
    "# create a dict with the appropriate aggregation functions\n",
    "agg_functions = {'Tumor Volume (mm3)':['mean', 'median', 'var', 'std', 'sem']}\n",
    "\n",
    "# aggregate\n",
    "agg_mouse_study_df.groupby(['Drug Regimen']).agg(agg_functions)\n"
   ]
  },
  {
   "cell_type": "markdown",
   "metadata": {},
   "source": [
    "## Bar and Pie Charts"
   ]
  },
  {
   "cell_type": "code",
   "execution_count": null,
   "metadata": {},
   "outputs": [],
   "source": [
    "# Generate a bar plot showing the total number of timepoints for all mice tested for each drug regimen using Pandas.\n",
    "total_timepoints = mouse_study_df.groupby([\"Drug Regimen\"]).count()[\"Timepoint\"]\n",
    "pandas_plot = total_timepoints.plot(kind='bar', title='Total Timepoints for all mice')\n",
    "pandas_plot.set_xlabel(\"Drug Regimen\")\n",
    "pandas_plot.set_ylabel(\"Number of Timepoints\")\n",
    "plt.show()\n"
   ]
  },
  {
   "cell_type": "code",
   "execution_count": null,
   "metadata": {},
   "outputs": [],
   "source": [
    "# convert from series to dataframe\n",
    "total_timepoints = total_timepoints.to_frame().reset_index()"
   ]
  },
  {
   "cell_type": "code",
   "execution_count": null,
   "metadata": {},
   "outputs": [],
   "source": [
    "# Generate a bar plot showing the total number of timepoints for all mice tested for each drug regimen using pyplot.\n",
    "x_axis = np.arange(len(total_timepoints))\n",
    "tick_locations = [value+0.004 for value in x_axis]\n",
    "plt.figure(figsize= (6,5))\n",
    "plt.bar(x_axis, total_timepoints[\"Timepoint\"], color='r', width = 0.5, align = 'center')\n",
    "plt.xticks(tick_locations, total_timepoints[\"Drug Regimen\"], rotation=\"vertical\")\n",
    "plt.title(\"Total Timepoints for all mice\")\n",
    "plt.xlabel(\"Drug Regiment\")\n",
    "plt.ylabel(\"Number of Timepoints\")\n",
    "plt.show()\n"
   ]
  },
  {
   "cell_type": "code",
   "execution_count": null,
   "metadata": {},
   "outputs": [],
   "source": [
    "# Number of male mice\n",
    "male_mice = mouse_study_df.loc[mouse_study_df[\"Sex\"] == 'Male', :]\n",
    "numb_males = len(male_mice[\"Mouse ID\"].unique())\n",
    "\n",
    "# Number of female mice, with one added to compensate for removal of duplicate mouse\n",
    "female_mice = mouse_study_df.loc[mouse_study_df[\"Sex\"] == 'Female', :]\n",
    "numb_females = (len(female_mice[\"Mouse ID\"].unique())) + 1\n",
    "\n",
    "# Assemble the Dataframe\n",
    "mice_sex_df = pd.DataFrame({'Number of male mice' : [numb_males], 'Number of female mice' : [numb_females]})\n",
    "mice_sex_df\n"
   ]
  },
  {
   "cell_type": "code",
   "execution_count": null,
   "metadata": {},
   "outputs": [],
   "source": [
    "# Generate a pie plot showing the distribution of female versus male mice using Pandas\n",
    "mice_sex_dict={'Sex of Mice':['Male','Female'], 'Total Number':[numb_males,numb_females]}\n",
    "labels=['Male','Female']\n",
    "colors=['lightblue', 'silver']\n",
    "pandas_mice_sex_df = pd.DataFrame(data=mice_sex_dict)\n",
    "pandas_mice_sex_df.plot.pie(y='Total Number', legend=False, startangle=140, fontsize=20, labels=labels, colors=colors, autopct='%1.1f%%')\n",
    "plt.show()\n"
   ]
  },
  {
   "cell_type": "code",
   "execution_count": null,
   "metadata": {},
   "outputs": [],
   "source": [
    "# Generate a pie plot showing the distribution of female versus male mice using pyplot\n",
    "labels = [\"Male mice\", \"Female mice\"]\n",
    "sizes = [numb_males, numb_females]\n",
    "colors = [\"lightcoral\", \"lightskyblue\"]\n",
    "explode = (0, 0)\n",
    "plt.pie(sizes, explode=explode, labels=labels, colors=colors, autopct=\"%1.1f%%\", startangle=140, textprops={'fontsize': 18})\n",
    "plt.show()\n"
   ]
  },
  {
   "cell_type": "markdown",
   "metadata": {},
   "source": [
    "## Quartiles, Outliers and Boxplots"
   ]
  },
  {
   "cell_type": "code",
   "execution_count": null,
   "metadata": {},
   "outputs": [],
   "source": [
    "# Calculate the final tumor volume of each mouse across four of the treatment regimens:  \n",
    "# Capomulin, Ramicane, Infubinol, and Ceftamin\n",
    "\n",
    "# Start by getting the last (greatest) timepoint for each mouse\n",
    "max_timepoint = mouse_study_df.groupby([\"Mouse ID\"]).max()[\"Timepoint\"]\n",
    "\n",
    "# Merge this group df with the original DataFrame to get the tumor volume at the last timepoint\n",
    "mouse_study_max_timepoint_merged = pd.merge(mouse_study_df, max_timepoint, how=\"left\", on=[\"Mouse ID\", \"Mouse ID\"])\n",
    "\n",
    "# Renaming columns\n",
    "mouse_study_max_timepoint_merged = mouse_study_max_timepoint_merged.rename(columns={\"Timepoint_x\": \"Timepoint\", \"Timepoint_y\": \"Max Timepoint\"})\n",
    "mouse_study_max_timepoint_merged.head()\n"
   ]
  },
  {
   "cell_type": "code",
   "execution_count": null,
   "metadata": {},
   "outputs": [],
   "source": [
    "# Create new dataframe for statistical analysis\n",
    "# Capture rows only where 'Tumor Volume (mm3)' values are equal to those at 'Tumor Volume at max timepoint'\n",
    "mouse_study_max_timepoint_merged['Tumor Volume at max timepoint'] = np.where((mouse_study_max_timepoint_merged['Timepoint'] == mouse_study_max_timepoint_merged['Max Timepoint']) , mouse_study_max_timepoint_merged['Tumor Volume (mm3)'], np.nan)\n",
    "mouse_study_max_timepoint_merged.head()\n",
    "\n",
    "# Drop the NaN values for the \"Tumor Volume at max timepoint\" column\n",
    "mouse_study_max_timepoint_merged = mouse_study_max_timepoint_merged[mouse_study_max_timepoint_merged['Tumor Volume at max timepoint'].notna()]\n",
    "mouse_study_max_timepoint_merged.reset_index(drop=True, inplace=True)\n",
    "\n",
    "# Create a dataframe with only the needed columns\n",
    "max_tumor_volume = mouse_study_max_timepoint_merged[['Mouse ID', 'Drug Regimen', 'Tumor Volume at max timepoint']]\n",
    "max_tumor_volume\n",
    "\n",
    "\n",
    "\n",
    "\n",
    "\n"
   ]
  },
  {
   "cell_type": "code",
   "execution_count": null,
   "metadata": {},
   "outputs": [],
   "source": [
    "# Summary Stats for Capomulin\n",
    "Capomulin_tumor_volumes = mouse_study_max_timepoint_merged.loc[mouse_study_max_timepoint_merged[\"Drug Regimen\"] == 'Capomulin', :]\n",
    "Capomulin = Capomulin_tumor_volumes['Tumor Volume at max timepoint']\n",
    "\n",
    "\n",
    "Capomulin_q3 = np.quantile(Capomulin_tumor_volumes['Tumor Volume at max timepoint'], 0.75)\n",
    "Capomulin_q1 = np.quantile(Capomulin_tumor_volumes['Tumor Volume at max timepoint'], 0.25)\n",
    "Capomulin_IQR = Capomulin_q3 - Capomulin_q1\n",
    "\n",
    "Capomulin_lower_range = Capomulin_q1 - 1.5 * Capomulin_IQR\n",
    "Capomulin_upper_range = Capomulin_q3 + 1.5 * Capomulin_IQR\n",
    "\n",
    "Capomulin_outliers = [x for x in Capomulin_tumor_volumes['Tumor Volume at max timepoint'] if ((x < Capomulin_lower_range) | (x > Capomulin_upper_range))]\n",
    "print(f'For mice receiving Capomulin, the IQR for all tumor volumes at the maximum time point is {round(Capomulin_IQR):.2f}.')\n",
    "print(f'The lower and upper range are {(Capomulin_lower_range):.2f} and {(Capomulin_upper_range):.2f}, respectively.')\n",
    "if len(Capomulin_outliers) > 0:\n",
    "    print(f'The number of outliers is {len(Capomulin_outliers)}. The outlier(s) had timepoint(s) at {(Capomulin_outliers)}.')\n",
    "else:\n",
    "    print('There were no outliers.')"
   ]
  },
  {
   "cell_type": "code",
   "execution_count": null,
   "metadata": {},
   "outputs": [],
   "source": [
    "# Summary Stats for Infubinol\n",
    "Ramicane_tumor_volumes = mouse_study_max_timepoint_merged.loc[mouse_study_max_timepoint_merged[\"Drug Regimen\"] == 'Ramicane', :]\n",
    "Ramicane = Ramicane_tumor_volumes['Tumor Volume at max timepoint']\n",
    "\n",
    "\n",
    "Ramicane_q3 = np.quantile(Ramicane_tumor_volumes['Tumor Volume at max timepoint'], 0.75)\n",
    "Ramicane_q1 = np.quantile(Ramicane_tumor_volumes['Tumor Volume at max timepoint'], 0.25)\n",
    "Ramicane_IQR = Ramicane_q3 - Ramicane_q1\n",
    "\n",
    "Ramicane_lower_range = Ramicane_q1 - 1.5 * Ramicane_IQR\n",
    "Ramicane_upper_range = Ramicane_q3 + 1.5 * Ramicane_IQR\n",
    "\n",
    "Ramicane_outliers = [x for x in Ramicane_tumor_volumes['Tumor Volume at max timepoint'] if ((x < Ramicane_lower_range) | (x > Ramicane_upper_range))]\n",
    "print(f'For mice receiving Ramicane, the IQR for all tumor volumes at the maximum time point is {(Ramicane_IQR):.2f}.')\n",
    "print(f'The lower and upper range are {(Ramicane_lower_range):.2f} and {(Ramicane_upper_range):.2f}, respectively.')\n",
    "if len(Ramicane_outliers) > 0:\n",
    "    print(f'The number of outliers is {len(Ramicane_outliers)}. The outlier(s) had timepoint(s) at {(Ramicane_outliers)}.')\n",
    "else:\n",
    "    print('There were no outliers.')"
   ]
  },
  {
   "cell_type": "code",
   "execution_count": null,
   "metadata": {},
   "outputs": [],
   "source": [
    "# Summary Stats for Infubinol\n",
    "Infubinol_tumor_volumes = mouse_study_max_timepoint_merged.loc[mouse_study_max_timepoint_merged[\"Drug Regimen\"] == 'Infubinol', :]\n",
    "Infubinol = Infubinol_tumor_volumes['Tumor Volume at max timepoint']\n",
    "\n",
    "\n",
    "Infubinol_q3 = np.quantile(Infubinol_tumor_volumes['Tumor Volume at max timepoint'], 0.75)\n",
    "Infubinol_q1 = np.quantile(Infubinol_tumor_volumes['Tumor Volume at max timepoint'], 0.25)\n",
    "Infubinol_IQR = Infubinol_q3 - Infubinol_q1\n",
    "\n",
    "Infubinol_lower_range = Infubinol_q1 - 1.5 * Infubinol_IQR\n",
    "Infubinol_upper_range = Infubinol_q3 + 1.5 * Infubinol_IQR\n",
    "\n",
    "Infubinol_outliers = [x for x in Infubinol_tumor_volumes['Tumor Volume at max timepoint'] if ((x < Infubinol_lower_range) | (x > Infubinol_upper_range))]\n",
    "print(f'For mice receiving Infubinol, the IQR for all tumor volumes at the maximum time point is {(Infubinol_IQR):.2f}.')\n",
    "print(f'The lower and upper range are {(Infubinol_lower_range):.2f} and {(Infubinol_upper_range):.2f}, respectively.')\n",
    "if len(Infubinol_outliers) > 0:\n",
    "    print(f'The number of outliers is {len(Infubinol_outliers)}. The outlier(s) had timepoint(s) at {(Infubinol_outliers)}.')\n",
    "else:\n",
    "    print('There were no outliers.')"
   ]
  },
  {
   "cell_type": "code",
   "execution_count": null,
   "metadata": {},
   "outputs": [],
   "source": [
    "# Summary Stats for Ceftamin\n",
    "Ceftamin_tumor_volumes = mouse_study_max_timepoint_merged.loc[mouse_study_max_timepoint_merged[\"Drug Regimen\"] == 'Ceftamin', :]\n",
    "Ceftamin = Ceftamin_tumor_volumes['Tumor Volume at max timepoint']\n",
    "\n",
    "\n",
    "Ceftamin_q3 = np.quantile(Ceftamin_tumor_volumes['Tumor Volume at max timepoint'], 0.75)\n",
    "Ceftamin_q1 = np.quantile(Ceftamin_tumor_volumes['Tumor Volume at max timepoint'], 0.25)\n",
    "Ceftamin_IQR = Ceftamin_q3 - Ceftamin_q1\n",
    "\n",
    "Ceftamin_lower_range = Ceftamin_q1 - 1.5 * Ceftamin_IQR\n",
    "Ceftamin_upper_range = Ceftamin_q3 + 1.5 * Ceftamin_IQR\n",
    "\n",
    "Ceftamin_outliers = [x for x in Ceftamin_tumor_volumes['Tumor Volume at max timepoint'] if ((x < Ceftamin_lower_range) | (x > Ceftamin_upper_range))]\n",
    "print(f'For mice receiving Ceftamin, the IQR for all tumor volumes at the maximum time point is {(Ceftamin_IQR):.2f}.')\n",
    "print(f'The lower and upper range are {(Ceftamin_lower_range):.2f} and {(Ceftamin_upper_range):.2f}, respectively.')\n",
    "if len(Ceftamin_outliers) > 0:\n",
    "    print(f'The number of outliers is {len(Ceftamin_outliers)}. The outlier(s) had timepoint(s) at {Ceftamin_outliers}.')\n",
    "else:\n",
    "    print('There were no outliers.')"
   ]
  },
  {
   "cell_type": "code",
   "execution_count": null,
   "metadata": {},
   "outputs": [],
   "source": [
    "# Generate a box plot that shows the distrubution of the tumor volume for each treatment group.\n",
    "\n",
    "# Capomulin calculations\n",
    "Capomulin = (Capomulin_tumor_volumes['Tumor Volume at max timepoint'])\n",
    "\n",
    "# Ramicane calculations\n",
    "Ramicane = Ramicane_tumor_volumes['Tumor Volume at max timepoint']\n",
    "\n",
    "# Infubinol calculations\n",
    "Infubinol = Infubinol_tumor_volumes['Tumor Volume at max timepoint']\n",
    "\n",
    "# Ceftamin calculations\n",
    "Ceftamin = Ceftamin_tumor_volumes['Tumor Volume at max timepoint']\n",
    "\n",
    "\n",
    "# Create figure with all four boxplots\n",
    "\n",
    "top4_drugs = [Capomulin, Ramicane, Infubinol, Ceftamin]\n",
    "labels = ['Capomulin', 'Ramicane', 'Infubinol', 'Ceftamin']\n",
    "flierprops = dict(marker='o', markerfacecolor='r', markersize=11, linestyle='none', markeredgecolor='b')\n",
    "\n",
    "\n",
    "plt.boxplot(top4_drugs, labels=labels, medianprops = dict(color=\"black\",linewidth=0.5), patch_artist=True, flierprops=flierprops, boxprops=dict(facecolor='coral', color='coral'), whiskerprops=dict(color='red'))\n",
    "            \n",
    "plt.ylabel('Tumor Volume (mm3)')\n",
    "plt.title('Final Tumor Volume Distribution across Four Drug Regimens')\n",
    "\n",
    "plt.show()\n"
   ]
  },
  {
   "cell_type": "markdown",
   "metadata": {},
   "source": [
    "## Line and Scatter Plots"
   ]
  },
  {
   "cell_type": "code",
   "execution_count": null,
   "metadata": {},
   "outputs": [],
   "source": [
    "# Generate a line plot of tumor volume vs. time point for a mouse treated with Capomulin\n",
    "\n",
    "# Dataframe for looking at specifically mouse s185\n",
    "s185_mouse = mouse_study_df.loc[mouse_study_df[\"Mouse ID\"] == 's185', :]\n",
    "\n",
    "# plot for s185\n",
    "plt.plot(s185_mouse['Timepoint'] , s185_mouse['Tumor Volume (mm3)'])\n",
    "plt.xlabel('Timepoint')\n",
    "plt.ylabel('Tumor Volume (mm3)')\n",
    "plt.title('Tumor Volume (mm3) of mouse s185')\n",
    "plt.show()\n",
    "\n"
   ]
  },
  {
   "cell_type": "code",
   "execution_count": null,
   "metadata": {},
   "outputs": [],
   "source": [
    "# Generate a scatter plot of average tumor volume vs. mouse weight for the Capomulin regimen\n",
    "\n",
    "# Create dataframe for Capomulin treated mice based off of original dataframe\n",
    "capomulin_regimen = mouse_study_df.loc[mouse_study_df[\"Drug Regimen\"] == 'Capomulin', :]\n",
    "\n",
    "# Calculate Average Tumor Volume for Mice in Capomulin drug regimen\n",
    "capomulin_mean_tv = capomulin_regimen.groupby([\"Mouse ID\"]).mean()[\"Tumor Volume (mm3)\"]\n",
    "\n",
    "# Combine the data into a single dataset\n",
    "capomulin_mean_tv_and_weight = pd.merge(capomulin_regimen, capomulin_mean_tv, how=\"left\", on=[\"Mouse ID\", \"Mouse ID\"])\n",
    "\n",
    "# Change column header to reflect Average Tumor Volume\n",
    "capomulin_mean_tv_and_weight_df = capomulin_mean_tv_and_weight.rename(columns={'Tumor Volume (mm3)_y' : 'Average Tumor Volume (mm3)'})\n",
    "\n",
    "# Create Scatter Plot\n",
    "capomulin_mean_tv_and_weight_df.plot(kind=\"scatter\", x=\"Weight (g)\", y=\"Average Tumor Volume (mm3)\", grid=True, figsize=(8,8), title=\"Avg. Tumor Volume vs Weight - Capomulin\")\n",
    "plt.show()\n"
   ]
  },
  {
   "cell_type": "markdown",
   "metadata": {},
   "source": [
    "## Correlation and Regression"
   ]
  },
  {
   "cell_type": "code",
   "execution_count": null,
   "metadata": {},
   "outputs": [],
   "source": [
    "# Calculate the correlation coefficient and linear regression model \n",
    "# for mouse weight and average tumor volume for the Capomulin regimen\n",
    "\n",
    "x_values = capomulin_mean_tv_and_weight_df['Weight (g)']\n",
    "y_values = capomulin_mean_tv_and_weight_df['Average Tumor Volume (mm3)']\n",
    "(slope, intercept, rvalue, pvalue, stderr) = linregress(x_values, y_values)\n",
    "regress_values = x_values * slope + intercept\n",
    "line_eq = \"y = \" + str(round(slope,2)) + \"x + \" + str(round(intercept,2))\n",
    "plt.scatter(x_values,y_values)\n",
    "plt.plot(x_values,regress_values,\"r-\")\n",
    "plt.annotate(line_eq,(18,35),fontsize=15,color=\"red\")\n",
    "plt.xlabel('Weight (g)')\n",
    "plt.ylabel('Average Tumor Volume (mm3)')\n",
    "plt.title('Average Tumor Volume vs Weight - Capomulin')\n",
    "plt.show()\n",
    "\n",
    "print(f\"The correlation coefficient between mouse weight and average tumor volume for Capomulin is {round(st.pearsonr(x_values,y_values)[0],2)}.\")\n",
    "\n"
   ]
  },
  {
   "cell_type": "markdown",
   "metadata": {},
   "source": [
    "## Extra Analysis including Placebo"
   ]
  },
  {
   "cell_type": "code",
   "execution_count": null,
   "metadata": {},
   "outputs": [],
   "source": [
    "# Summary Stats for Placebo\n",
    "Placebo_tumor_volumes = mouse_study_max_timepoint_merged.loc[mouse_study_max_timepoint_merged[\"Drug Regimen\"] == 'Placebo', :]\n",
    "Placebo = Placebo_tumor_volumes['Tumor Volume at max timepoint']\n",
    "\n",
    "\n",
    "Placebo_q3 = np.quantile(Placebo_tumor_volumes['Tumor Volume at max timepoint'], 0.75)\n",
    "Placebo_q1 = np.quantile(Placebo_tumor_volumes['Tumor Volume at max timepoint'], 0.25)\n",
    "Placebo_IQR = Placebo_q3 - Placebo_q1\n",
    "\n",
    "Placebo_lower_range = Placebo_q1 - 1.5 * Placebo_IQR\n",
    "Placebo_upper_range = Placebo_q3 + 1.5 * Placebo_IQR\n",
    "\n",
    "Placebo_outliers = [x for x in Placebo_tumor_volumes['Tumor Volume at max timepoint'] if ((x < Placebo_lower_range) | (x > Placebo_upper_range))]\n",
    "print(f'For mice receiving Placebo, the IQR for all tumor volumes at the maximum time point is {(Placebo_IQR):.2f}.')\n",
    "print(f'The lower and upper range are {(Placebo_lower_range):.2f} and {(Placebo_upper_range):.2f}, respectively.')\n",
    "if len(Placebo_outliers) > 0:\n",
    "    print(f'The number of outliers is {len(Placebo_outliers)}. The outlier(s) had timepoint(s) at {(Placebo_outliers)}.')\n",
    "else:\n",
    "    print('There were no outliers.')"
   ]
  },
  {
   "cell_type": "code",
   "execution_count": null,
   "metadata": {},
   "outputs": [],
   "source": [
    "# Summary Stats for Placebo\n",
    "Placebo_tumor_volumes = mouse_study_max_timepoint_merged.loc[mouse_study_max_timepoint_merged[\"Drug Regimen\"] == 'Placebo', :]\n",
    "Placebo = Placebo_tumor_volumes['Tumor Volume at max timepoint']\n",
    "\n",
    "# Capomulin calculations\n",
    "Capomulin = Capomulin_tumor_volumes['Tumor Volume at max timepoint']\n",
    "\n",
    "# Ramicane calculations\n",
    "Ramicane = Ramicane_tumor_volumes['Tumor Volume at max timepoint']\n",
    "\n",
    "# Infubinol calculations\n",
    "Infubinol = Infubinol_tumor_volumes['Tumor Volume at max timepoint']\n",
    "\n",
    "# Ceftamin calculations\n",
    "Ceftamin = Ceftamin_tumor_volumes['Tumor Volume at max timepoint']\n",
    "\n",
    "\n",
    "# Create figure with all four boxplots\n",
    "\n",
    "top4_drugs_and_placebo = [Capomulin, Ramicane, Infubinol, Ceftamin, Placebo]\n",
    "labels = ['Capomulin', 'Ramicane', 'Infubinol', 'Ceftamin', 'Placebo']\n",
    "flierprops = dict(marker='o', markerfacecolor='r', markersize=11, linestyle='none', markeredgecolor='b')\n",
    "\n",
    "\n",
    "plt.boxplot(top4_drugs_and_placebo, labels=labels, medianprops = dict(color=\"black\",linewidth=0.5), patch_artist=True, flierprops=flierprops, boxprops=dict(facecolor='coral', color='coral'), whiskerprops=dict(color='red'))\n",
    "            \n",
    "plt.ylabel('Tumor Volume (mm3)')\n",
    "plt.title('Final Tumor Volume Distribution across Four Drug Regimens')\n",
    "\n",
    "plt.show()\n"
   ]
  },
  {
   "cell_type": "code",
   "execution_count": null,
   "metadata": {},
   "outputs": [],
   "source": [
    "# Generate a scatter plot of average tumor volume vs. mouse weight for the Placebo regimen\n",
    "\n",
    "# Create dataframe for Placebo treated mice based off of original dataframe\n",
    "Placebo_regimen = mouse_study_df.loc[mouse_study_df[\"Drug Regimen\"] == 'Placebo', :]\n",
    "\n",
    "# Calculate Average Tumor Volume for Mice in Placebo drug regimen\n",
    "Placebo_mean_tv = Placebo_regimen.groupby([\"Mouse ID\"]).mean()[\"Tumor Volume (mm3)\"]\n",
    "\n",
    "# Combine the data into a single dataset\n",
    "Placebo_mean_tv_and_weight = pd.merge(Placebo_regimen, Placebo_mean_tv, how=\"left\", on=[\"Mouse ID\", \"Mouse ID\"])\n",
    "\n",
    "# Change column header to reflect Average Tumor Volume\n",
    "Placebo_mean_tv_and_weight_df = Placebo_mean_tv_and_weight.rename(columns={'Tumor Volume (mm3)_y' : 'Average Tumor Volume (mm3)'})\n",
    "\n",
    "# Create Scatter Plot\n",
    "Placebo_mean_tv_and_weight_df.plot(kind=\"scatter\", x=\"Weight (g)\", y=\"Average Tumor Volume (mm3)\", grid=True, figsize=(8,8), title=\"Avg. Tumor Volume vs Weight - Placebo\")\n",
    "plt.show()\n"
   ]
  },
  {
   "cell_type": "code",
   "execution_count": null,
   "metadata": {},
   "outputs": [],
   "source": [
    "# Calculate the correlation coefficient and linear regression model \n",
    "# for mouse weight and average tumor volume for the Placebo regimen\n",
    "\n",
    "x_values = Placebo_mean_tv_and_weight_df['Weight (g)']\n",
    "y_values = Placebo_mean_tv_and_weight_df['Average Tumor Volume (mm3)']\n",
    "(slope, intercept, rvalue, pvalue, stderr) = linregress(x_values, y_values)\n",
    "regress_values = x_values * slope + intercept\n",
    "line_eq = \"y = \" + str(round(slope,2)) + \"x + \" + str(round(intercept,2))\n",
    "plt.scatter(x_values,y_values)\n",
    "plt.plot(x_values,regress_values,\"r-\")\n",
    "plt.annotate(line_eq,(25,50),fontsize=15,color=\"red\")\n",
    "plt.xlabel('Weight (g)')\n",
    "plt.ylabel('Average Tumor Volume (mm3)')\n",
    "plt.title('Average Tumor Volume vs Weight - Placebo')\n",
    "plt.show()\n",
    "\n",
    "print(f\"The correlation coefficient between mouse weight and average tumor volume for Placebo is {round(st.pearsonr(x_values,y_values)[0],2)}.\")\n",
    "\n"
   ]
  },
  {
   "cell_type": "code",
   "execution_count": null,
   "metadata": {},
   "outputs": [],
   "source": []
  }
 ],
 "metadata": {
  "anaconda-cloud": {},
  "kernelspec": {
   "display_name": "PythonData",
   "language": "python",
   "name": "pythondata"
  },
  "language_info": {
   "codemirror_mode": {
    "name": "ipython",
    "version": 3
   },
   "file_extension": ".py",
   "mimetype": "text/x-python",
   "name": "python",
   "nbconvert_exporter": "python",
   "pygments_lexer": "ipython3",
   "version": "3.7.7"
  }
 },
 "nbformat": 4,
 "nbformat_minor": 4
}
